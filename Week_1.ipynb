{
  "nbformat": 4,
  "nbformat_minor": 0,
  "metadata": {
    "colab": {
      "provenance": [],
      "authorship_tag": "ABX9TyMbHVOERq082aa2aMBbLlIJ",
      "include_colab_link": true
    },
    "kernelspec": {
      "name": "python3",
      "display_name": "Python 3"
    },
    "language_info": {
      "name": "python"
    }
  },
  "cells": [
    {
      "cell_type": "markdown",
      "metadata": {
        "id": "view-in-github",
        "colab_type": "text"
      },
      "source": [
        "<a href=\"https://colab.research.google.com/github/UNKNOWNAR/IITMPython/blob/master/Week_1.ipynb\" target=\"_parent\"><img src=\"https://colab.research.google.com/assets/colab-badge.svg\" alt=\"Open In Colab\"/></a>"
      ]
    },
    {
      "cell_type": "markdown",
      "source": [
        "Any integer or string when converted to boolean stores True and else if the the input is zero or an empty string False is stored\n",
        "\n",
        "\n",
        "\n",
        "\n",
        "\n"
      ],
      "metadata": {
        "id": "BOgTxowCPEZy"
      }
    },
    {
      "cell_type": "code",
      "execution_count": null,
      "metadata": {
        "collapsed": true,
        "id": "GDzijNMML0aT"
      },
      "outputs": [],
      "source": [
        "n = bool(-1)\n",
        "print(n)\n",
        "n = bool(1)\n",
        "print(n)\n",
        "n = bool(0)\n",
        "print(n)\n",
        "n = bool(\"\")\n",
        "print(n)\n",
        "n = bool(\"Arinjay\")\n",
        "print(n)"
      ]
    },
    {
      "cell_type": "markdown",
      "source": [
        "Arithmetic operation in Python // gives the integer value only after division"
      ],
      "metadata": {
        "id": "fQuB9n5mf-JJ"
      }
    },
    {
      "cell_type": "code",
      "source": [
        "print(\"Division\",7/3)\n",
        "print(\"Division\",7//3)\n",
        "print(\"MOdulus\",7%3)"
      ],
      "metadata": {
        "colab": {
          "base_uri": "https://localhost:8080/",
          "height": 228
        },
        "collapsed": true,
        "id": "rJfS_1WcPrjw",
        "outputId": "75eea230-4067-4b33-8dc2-b6f55d6e0572"
      },
      "execution_count": 2,
      "outputs": [
        {
          "output_type": "stream",
          "name": "stdout",
          "text": [
            "Division 2.3333333333333335\n",
            "Division 2\n",
            "MOdulus 1\n"
          ]
        },
        {
          "output_type": "error",
          "ename": "NameError",
          "evalue": "name 'n' is not defined",
          "traceback": [
            "\u001b[0;31m---------------------------------------------------------------------------\u001b[0m",
            "\u001b[0;31mNameError\u001b[0m                                 Traceback (most recent call last)",
            "\u001b[0;32m<ipython-input-2-8b0986deb56b>\u001b[0m in \u001b[0;36m<cell line: 0>\u001b[0;34m()\u001b[0m\n\u001b[1;32m      2\u001b[0m \u001b[0mprint\u001b[0m\u001b[0;34m(\u001b[0m\u001b[0;34m\"Division\"\u001b[0m\u001b[0;34m,\u001b[0m\u001b[0;36m7\u001b[0m\u001b[0;34m//\u001b[0m\u001b[0;36m3\u001b[0m\u001b[0;34m)\u001b[0m\u001b[0;34m;\u001b[0m\u001b[0;34m\u001b[0m\u001b[0;34m\u001b[0m\u001b[0m\n\u001b[1;32m      3\u001b[0m \u001b[0mprint\u001b[0m\u001b[0;34m(\u001b[0m\u001b[0;34m\"MOdulus\"\u001b[0m\u001b[0;34m,\u001b[0m\u001b[0;36m7\u001b[0m\u001b[0;34m%\u001b[0m\u001b[0;36m3\u001b[0m\u001b[0;34m)\u001b[0m\u001b[0;34m;\u001b[0m\u001b[0;34m\u001b[0m\u001b[0;34m\u001b[0m\u001b[0m\n\u001b[0;32m----> 4\u001b[0;31m \u001b[0mprint\u001b[0m\u001b[0;34m(\u001b[0m\u001b[0mn\u001b[0m\u001b[0;34m[\u001b[0m\u001b[0;36m0\u001b[0m\u001b[0;34m]\u001b[0m\u001b[0;34m)\u001b[0m\u001b[0;34m\u001b[0m\u001b[0;34m\u001b[0m\u001b[0m\n\u001b[0m",
            "\u001b[0;31mNameError\u001b[0m: name 'n' is not defined"
          ]
        }
      ]
    },
    {
      "cell_type": "markdown",
      "source": [
        "String Operation Substring extraction/ String Sliccing and String Replication"
      ],
      "metadata": {
        "id": "aeZdHBeQ7ULs"
      }
    },
    {
      "cell_type": "code",
      "source": [
        "s = \"coffee\"\n",
        "t = \"bread\"\n",
        "print(s+t)\n",
        "print(s[0])\n",
        "print(s[1:3])\n",
        "s = '0123456789'\n",
        "a=int(s[4])\n",
        "b=int(s[7])\n",
        "print(a+b)\n",
        "print(t[0]*5)"
      ],
      "metadata": {
        "id": "6EKwhbnM7bKe"
      },
      "execution_count": null,
      "outputs": []
    },
    {
      "cell_type": "markdown",
      "source": [
        "String Comparision happens by charcater by character"
      ],
      "metadata": {
        "id": "1D8070Ir-lmC"
      }
    },
    {
      "cell_type": "code",
      "source": [
        "print(\"apple\">\"guava\")\n",
        "print(\"abcdef\"<\"abcd\")"
      ],
      "metadata": {
        "colab": {
          "base_uri": "https://localhost:8080/"
        },
        "id": "waxBofrO_B-n",
        "outputId": "5883081e-38e5-4ac8-b016-514ac0112f29"
      },
      "execution_count": 8,
      "outputs": [
        {
          "output_type": "stream",
          "name": "stdout",
          "text": [
            "False\n",
            "False\n"
          ]
        }
      ]
    },
    {
      "cell_type": "markdown",
      "source": [
        "For Negative index the reverse extraction of chracters happens -1 takes the last letter\n"
      ],
      "metadata": {
        "id": "UMnuIPC__Y8h"
      }
    },
    {
      "cell_type": "code",
      "source": [
        "s = \"coffee\"\n",
        "print(s[0])\n",
        "print(s[-1])\n",
        "print(s[len(s)-1])\n",
        "print"
      ],
      "metadata": {
        "colab": {
          "base_uri": "https://localhost:8080/"
        },
        "id": "EarW4yNt_mbY",
        "outputId": "1f6cbd88-0448-4c87-982d-754ff7e5a1e0"
      },
      "execution_count": 9,
      "outputs": [
        {
          "output_type": "stream",
          "name": "stdout",
          "text": [
            "c\n",
            "e\n",
            "e\n"
          ]
        }
      ]
    },
    {
      "cell_type": "markdown",
      "source": [
        "Division in python always results in float\n",
        "\n",
        "2**3 = 8\n",
        "\n",
        "The precedence of arithmetic operators in Python follows the PEMDAS rule:\n",
        "\n",
        "Parentheses: ()\n",
        "\n",
        "Exponentiation: **\n",
        "\n",
        "Multiplication and Division: *, /, //, %\n",
        "\n",
        "Addition and Subtraction: +, -\n",
        "\n",
        "Operators with the same precedence are evaluated from left to right.\n",
        "\n",
        "2 ** 3 ** 0\n",
        "\n",
        "(2 ** 3) ** 0\n",
        "\n",
        "2 ** (3 ** 0)\n",
        "\n",
        "The interpreter is following the second way, i.e., the statement is being executed from right to left. This kind of execution happens only in the case of the exponentiation operator and the assignment operator."
      ],
      "metadata": {
        "id": "ZWVQjqB2BpS5"
      }
    },
    {
      "cell_type": "code",
      "source": [],
      "metadata": {
        "id": "tmkLq1l7Ck7S"
      },
      "execution_count": null,
      "outputs": []
    }
  ]
}