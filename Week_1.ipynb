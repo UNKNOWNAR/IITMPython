{
  "nbformat": 4,
  "nbformat_minor": 0,
  "metadata": {
    "colab": {
      "provenance": [],
      "toc_visible": true,
      "mount_file_id": "1s3D0ro8xAEmNufZrNJ-Cf_UvuYMb8jUD",
      "authorship_tag": "ABX9TyM+OeREQqziSe2eG41a2nBv",
      "include_colab_link": true
    },
    "kernelspec": {
      "name": "python3",
      "display_name": "Python 3"
    },
    "language_info": {
      "name": "python"
    }
  },
  "cells": [
    {
      "cell_type": "markdown",
      "metadata": {
        "id": "view-in-github",
        "colab_type": "text"
      },
      "source": [
        "<a href=\"https://colab.research.google.com/github/UNKNOWNAR/IITMPython/blob/master/Week_1.ipynb\" target=\"_parent\"><img src=\"https://colab.research.google.com/assets/colab-badge.svg\" alt=\"Open In Colab\"/></a>"
      ]
    },
    {
      "cell_type": "markdown",
      "source": [
        "Any integer or string when converted to boolean stores `True`, except if the input is zero or an empty string, in which case `False` is stored."
      ],
      "metadata": {
        "id": "BOgTxowCPEZy"
      }
    },
    {
      "cell_type": "code",
      "execution_count": null,
      "metadata": {
        "collapsed": true,
        "id": "GDzijNMML0aT"
      },
      "outputs": [],
      "source": [
        "n = bool(-1)\n",
        "print(n)\n",
        "n = bool(1)\n",
        "print(n)\n",
        "n = bool(0)\n",
        "print(n)\n",
        "n = bool(\"\")\n",
        "print(n)\n",
        "n = bool(\"Arinjay\")\n",
        "print(n)"
      ]
    },
    {
      "cell_type": "markdown",
      "source": [
        "The `//` operator in Python performs floor division, which gives the integer part of the result after division."
      ],
      "metadata": {
        "id": "fQuB9n5mf-JJ"
      }
    },
    {
      "cell_type": "code",
      "source": [
        "print(\"Division\",7/3)\n",
        "print(\"Division\",7//3)\n",
        "print(\"MOdulus\",7%3)"
      ],
      "metadata": {
        "collapsed": true,
        "id": "rJfS_1WcPrjw"
      },
      "execution_count": null,
      "outputs": []
    },
    {
      "cell_type": "markdown",
      "source": [
        "String Operations: Substring Extraction/Slicing and String Replication\n",
        "\n",
        "- `::2` creates a string with characters at even indexes (0, 2, 4, etc.). The `2` can be replaced with any number to specify the step size.\n",
        "- `[::-1]` reverses the string because the `-` sign indicates a reverse step, and `1` (implicit) is the step size, effectively extracting every character in reverse order."
      ],
      "metadata": {
        "id": "aeZdHBeQ7ULs"
      }
    },
    {
      "cell_type": "code",
      "source": [
        "s = \"coffee\"\n",
        "t = \"bread\"\n",
        "print(s+t)\n",
        "print(s[0])\n",
        "print(s[1:3])\n",
        "s = '0123456789'\n",
        "a=int(s[4])\n",
        "b=int(s[7])\n",
        "print(a+b)\n",
        "print(t[0]*5)\n",
        "print(s[::2])#get every second character\n",
        "print(s[::-1])#reverse the string\n",
        "print(s[-3:])#get the last 3 characters"
      ],
      "metadata": {
        "id": "6EKwhbnM7bKe"
      },
      "execution_count": null,
      "outputs": []
    },
    {
      "cell_type": "markdown",
      "source": [
        "String Comparison: Strings are compared lexicographically, character by character, based on their ASCII values."
      ],
      "metadata": {
        "id": "1D8070Ir-lmC"
      }
    },
    {
      "cell_type": "code",
      "source": [
        "print(\"apple\">\"guava\")\n",
        "print(\"abcdef\"<\"abcd\")"
      ],
      "metadata": {
        "id": "waxBofrO_B-n"
      },
      "execution_count": null,
      "outputs": []
    },
    {
      "cell_type": "markdown",
      "source": [
        "Negative Indexing: Negative indexes are used to access characters from the end of a string. For example, `-1` refers to the last character, `-2` refers to the second-to-last character, and so on."
      ],
      "metadata": {
        "id": "b_Rmt7aFepIo"
      }
    },
    {
      "cell_type": "code",
      "source": [
        "s = \"coffee\"\n",
        "print(s[0])\n",
        "print(s[-1])\n",
        "print(s[len(s)-1])\n",
        "print"
      ],
      "metadata": {
        "id": "EarW4yNt_mbY"
      },
      "execution_count": null,
      "outputs": []
    },
    {
      "cell_type": "markdown",
      "source": [
        "Division in Python: Division using the `/` operator always results in a float.\n",
        "\n",
        "Exponentiation: `2**3` is equivalent to 2 raised to the power of 3, which equals 8.\n",
        "\n",
        "Operator Precedence: Python follows the PEMDAS rule for operator precedence:\n",
        "\n",
        "1. Parentheses: `()`\n",
        "2. Exponentiation: `**`\n",
        "3. Multiplication and Division: `*`, `/`, `//`, `%`\n",
        "4. Addition and Subtraction: `+`, `-`\n",
        "\n",
        "Operators with the same precedence are evaluated from left to right.\n",
        "\n",
        "Exponentiation Chaining: In the expression `2 ** 3 ** 0`, the exponentiation is evaluated from right to left, meaning it is equivalent to `2 ** (3 ** 0)`. This behavior is specific to the exponentiation operator."
      ],
      "metadata": {
        "id": "ZWVQjqB2BpS5"
      }
    }
  ]
}