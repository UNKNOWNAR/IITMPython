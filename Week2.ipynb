{
  "nbformat": 4,
  "nbformat_minor": 0,
  "metadata": {
    "colab": {
      "provenance": [],
      "authorship_tag": "ABX9TyP1MgCDWrGf4qDaH8NO/W4S",
      "include_colab_link": true
    },
    "kernelspec": {
      "name": "python3",
      "display_name": "Python 3"
    },
    "language_info": {
      "name": "python"
    }
  },
  "cells": [
    {
      "cell_type": "markdown",
      "metadata": {
        "id": "view-in-github",
        "colab_type": "text"
      },
      "source": [
        "<a href=\"https://colab.research.google.com/github/UNKNOWNAR/IITMPython/blob/master/Week2.ipynb\" target=\"_parent\"><img src=\"https://colab.research.google.com/assets/colab-badge.svg\" alt=\"Open In Colab\"/></a>"
      ]
    },
    {
      "cell_type": "code",
      "execution_count": null,
      "metadata": {
        "id": "1DH5Bq2EMcwG"
      },
      "outputs": [],
      "source": []
    },
    {
      "cell_type": "markdown",
      "source": [
        "# Dynamic Typing: A Flexible Approach to Programming\n",
        "\n",
        "## Introduction\n",
        "\n",
        "In programming, **dynamic typing** is a type system where the type of a variable is checked during **runtime**, rather than at **compile time**. This flexibility allows a variable to hold values of different types during a program's execution.\n",
        "\n",
        "## How Dynamic Typing Works\n",
        "\n",
        "1. **Runtime Type Assignment:** The interpreter or runtime environment assigns types to variables based on the values they hold.\n",
        "2. **Type Checking During Operations:** Type checking is performed when operations are executed on variables.\n",
        "3. **Runtime Errors:** If a type error occurs during runtime, an exception is raised.\n",
        "## Benefits: Embracing Flexibility and Speed\n",
        "\n",
        "* **Flexibility:** Dynamic typing empowers you to write more dynamic and adaptable code by allowing variables to hold values of different types.\n",
        "* **Faster Development:** By reducing the need for explicit type declarations, dynamic typing allows you to focus on program logic and accelerate development.\n",
        "* **Ease of Use:** With less strict rules for variable types, dynamic typing is often considered more beginner-friendly, making it easier to learn and use.\n",
        "\n",
        "## Drawbacks: Navigating Potential Pitfalls\n",
        "\n",
        "* **Runtime Errors:** While flexibility is a strength, it can also lead to runtime errors if unexpected types are encountered during program execution.\n",
        "* **Reduced Code Readability:** The absence of explicit type declarations can sometimes make it harder to understand the code's purpose and potential errors, especially in larger projects.\n",
        "* **Difficult Debugging:** Pinpointing type-related errors during runtime can be more challenging compared to statically typed languages where type checking is performed before execution.\n",
        "\n",
        "## Languages that Embrace Dynamic Typing\n",
        "\n",
        "Here are some widely used languages that leverage the power of dynamic typing:\n",
        "\n",
        "* **Python:**\n",
        "* **JavaScript:**\n",
        "* **Ruby:**\n",
        "* **PHP:**\n"
      ],
      "metadata": {
        "id": "v9ovoutpOXyR"
      }
    },
    {
      "cell_type": "markdown",
      "source": [
        "## Rules for Naming Variables in Python:\n",
        "\n",
        "   1. Must start with a letter (a-z, A-Z) or underscore (_).\n",
        "   2. Can contain letters, numbers, and underscores.\n",
        "   3. Case-sensitive (e.g., myVar and myvar are different).\n",
        "   4. Cannot be a reserved keyword (e.g., if, else, for)."
      ],
      "metadata": {
        "id": "7E_kWeUlQ9yR"
      }
    },
    {
      "cell_type": "markdown",
      "source": [
        "## Multiple Variable Assignment\n",
        "\n",
        "This section demonstrates assigning values to multiple variables concurrently in Python, showcasing its conciseness and efficiency."
      ],
      "metadata": {
        "id": "VtVuzJb6ReAp"
      }
    },
    {
      "cell_type": "code",
      "source": [
        "x,y = 1,2\n",
        "print(x,y)\n",
        "x=y=z=10\n",
        "print(x,y,z)\n",
        "z = 3\n",
        "x,z = z,x#Exchnging Values\n",
        "print(x,z)\n",
        "del(x)"
      ],
      "metadata": {
        "id": "KJv14AIKRFhJ"
      },
      "execution_count": null,
      "outputs": []
    },
    {
      "cell_type": "markdown",
      "source": [
        "## Short Hand Operatives\n",
        "\n",
        "Explore the use of shorthand operators in Python, providing a streamlined approach to common operations like incrementing, decrementing, and more."
      ],
      "metadata": {
        "id": "NKofNYyDR_C_"
      }
    },
    {
      "cell_type": "code",
      "source": [
        "counter = 0\n",
        "counter += 1#increment value by 1\n",
        "print(counter)\n",
        "counter -= 10#decrement value by 1\n",
        "print(counter)\n",
        "counter *= -2#multiply value by -2\n",
        "print(counter)\n",
        "counter //= 3#divide value by 3\n",
        "print(counter)"
      ],
      "metadata": {
        "id": "3vrQvrS8RFkL"
      },
      "execution_count": null,
      "outputs": []
    },
    {
      "cell_type": "markdown",
      "source": [
        "## in Opertor\n",
        "\n",
        "This segment illustrates the versatile `in` operator in Python, employed for checking membership within sequences such as strings, lists, and tuples."
      ],
      "metadata": {
        "id": "43hyx6UuZ56E"
      }
    },
    {
      "cell_type": "code",
      "source": [
        "print(\"alpha\" in \" I am an alpha male\")\n",
        "print(\"beta\" in \" I am an alpha male\")"
      ],
      "metadata": {
        "id": "kAUQZyVFaF_M"
      },
      "execution_count": null,
      "outputs": []
    },
    {
      "cell_type": "markdown",
      "source": [
        "## Escape Characters\n",
        "\n",
        "Delve into the utilization of escape characters within strings in Python, enabling the representation of special characters and enhancing string manipulation capabilities.\n",
        "\n",
        "**Common Escape Characters:**\n",
        "\n",
        "- `\\'`: Single quote\n",
        "- `\\\"`: Double quote\n",
        "- `\\\\`: Backslash\n",
        "- `\\n`: Newline\n",
        "- `\\t`: Tab\n",
        "- `\\r`: Carriage return\n",
        "- `\\b`: Backspace\n",
        "- `\\f`: Form feed\n",
        "\n",
        "**Example:**"
      ],
      "metadata": {
        "id": "z-uBCMrNanZA"
      }
    },
    {
      "cell_type": "code",
      "source": [
        "print('It\\'s a beautiful day')\n",
        "print(\"It's a beautiful day \\n The flowers are blomming under the \\\"sun\\\" \\t The sky is blue \")"
      ],
      "metadata": {
        "id": "kHwZ8XzZaycV"
      },
      "execution_count": null,
      "outputs": []
    },
    {
      "cell_type": "markdown",
      "source": [
        "## String Methods\n",
        "\n",
        "Python offers a variety of built-in methods for manipulating strings. Here are some commonly used ones:\n",
        "\n",
        "| Method       | Description                                            | Example                           | Output                         |\n",
        "| ------------ | ------------------------------------------------------ | ------------------------------ | ------------------------------------ |\n",
        "| lower()      | Converts a string into lower case                      | `print(\"Hello\".lower())`               | `hello`                        |\n",
        "| upper()      | Converts a string into upper case                      | `print(\"Hello\".upper())`               | `HELLO`                        |\n",
        "| capitalize() | Converts the first character to upper case             | `print(\"hello\".capitalize())`          | `Hello`                        |\n",
        "| title()      | Converts the first character of each word to upper case| `print(\"hello world\".title())`               | `Hello World`                   |\n",
        "| swapcase()   | Swaps cases, lower case becomes upper case and vice versa| `print(\"Hello World\".swapcase())`            | `hELLO wORLD`                  |\n",
        "| islower()   | Returns True if all characters in the string are lower case | `x = 'python'`               | `True` |\n",
        "|             |                                                         | `print(x.islower())`           |        |\n",
        "|             | Returns False otherwise                                 | `x = 'Python'`                | `False`|\n",
        "|             |                                                         | `print(x.islower())`           |        |\n",
        "| isupper()   | Returns True if all characters in the string are upper case | `x = 'PYTHON'`               | `True` |\n",
        "|             |                                                         | `print(x.isupper())`           |        |\n",
        "|             | Returns False otherwise                                 | `x = 'PYTHoN'`                | `False`|\n",
        "|             |                                                         | `print(x.isupper())`           |        |\n",
        "| istitle()   | Returns True if the string follows the rules of a title | `x = 'Python String Methods'` | `True` |\n",
        "|             |                                                         | `print(x.istitle())`           |        |\n",
        "|             | Returns False otherwise                                 | `x = 'Python string methods'` | `False`|\n",
        "|             |                                                         | `print(x.istitle())`           |        |\n",
        "| isdigit()   | Returns True if all characters in the string are digits | `x = '12345'`                | `True` |\n",
        "|             |                                                         | `print(x.isdigit())`           |        |\n",
        "|             | Returns False otherwise                                 | `x = '123abc'`               | `False`|\n",
        "|             |                                                         | `print(x.isdigit())`           |        |\n",
        "| isalpha()   | Returns True if all characters in the string are alphabets| `x = 'python'`               | `True` |\n",
        "|             |                                                         | `print(x.isalpha())`           |        |\n",
        "|             | Returns False otherwise                                 | `x = 'python123'`             | `False`|\n",
        "|             |                                                         | `print(x.isalpha())`           |        |\n",
        "| isalnum()   | Returns True if all characters in the string are alphanumeric| `x = 'python123'`          | `True` |\n",
        "|             |                                                         | `print(x.isalnum())`           |        |\n",
        "|             | Returns False otherwise                                 | `x = 'python 123'`            | `False`|\n",
        "|             |           \n",
        "| strip()     | Removes leading and trailing whitespace                             | `x = '  hello world  '`                  | `'hello world'`               |\n",
        "|             |                                                                  | `print(x.strip())`                        |                                |\n",
        "| lstrip()    | Removes leading whitespace                                          | `x = '  hello world  '`                  | `'hello world  '`             |\n",
        "|             |                                                                  | `print(x.lstrip())`                       |                                |\n",
        "| rstrip()    | Removes trailing whitespace                                         | `x = '  hello world  '`                  | `'  hello world'`              |\n",
        "|             |                                                                  | `print(x.rstrip())`                       |                                |\n",
        "| endswith()  | Returns True if the string ends with the specified suffix          | `x = 'Hello world'`                      | `True`                        |\n",
        "|             |                                                                  | `print(x.endswith('world'))`              |                                |\n",
        "|             | Returns False otherwise                                             | `x = 'Hello world'`                      | `False`                       |\n",
        "|             |                                                                  | `print(x.endswith('World'))`              |                                |\n",
        "| startswith()| Returns True if the string starts with the specified prefix        | `x = 'Hello world'`                      | `True`                        |\n",
        "|             |                                                                  | `print(x.startswith('Hello'))`            |                                |\n",
        "|             | Returns False otherwise                                             | `x = 'Hello world'`                      | `False`                       |\n",
        "|             |                                                                  | `print(x.startswith('hello'))`            |                                |\n",
        "| count()     | Returns the number of occurrences of a substring in the string      | `x = 'Hello world'`                      | `1`                           |\n",
        "|             |                                                                  | `print(x.count('o'))`                    |                                |\n",
        "| index()     | Returns the index of the first occurrence of a substring in the string| `x = 'Hello world'`                      | `4`                           |\n",
        "|             |                                                                  | `print(x.index('o'))`                    |                                |\n",
        "| replace()   | Replaces occurrences of a substring with another substring         | `x = 'Hello world'`                      | `'Hello Python'`              |\n",
        "# |             |                                                                  | `print(x.replace('world', 'Python'))`     |                                |  :"
      ],
      "metadata": {
        "id": "fUorf4igAjH8"
      }
    },
    {
      "cell_type": "markdown",
      "source": [
        "## Caesar Cipher in cryptography"
      ],
      "metadata": {
        "id": "wG4Xzub1GVma"
      }
    },
    {
      "cell_type": "code",
      "source": [
        "alpha = \"abcdefghijklmnopqrstuvwxyz\"\n",
        "name = \"arinjay\"\n",
        "#I expect bsjokbz\n",
        "i = 0\n",
        "k = 1#amount of charcter shift\n",
        "shift = \"\"\n",
        "shift += alpha[(((alpha.index(name[i]))+k)%26)]\n",
        "shift += alpha[(((alpha.index(name[i+1]))+k)%26)]\n",
        "shift += alpha[(((alpha.index(name[i+2]))+k)%26)]\n",
        "shift += alpha[(((alpha.index(name[i+3]))+k)%26)]\n",
        "shift += alpha[(((alpha.index(name[i+4]))+k)%26)]\n",
        "shift += alpha[(((alpha.index(name[i+5]))+k)%26)]\n",
        "shift += alpha[(((alpha.index(name[i+6]))+k)%26)]\n",
        "print(shift)"
      ],
      "metadata": {
        "id": "rVYrvdoOBVLL"
      },
      "execution_count": null,
      "outputs": []
    },
    {
      "cell_type": "markdown",
      "source": [
        "## Math Library"
      ],
      "metadata": {
        "id": "ykfPBPz7l9_o"
      }
    },
    {
      "cell_type": "code",
      "source": [
        "import math\n",
        "print(math.sqrt(16))\n",
        "print(math.pow(2,3))\n",
        "print(math.pi)\n",
        "print(math.e)\n",
        "print(math.log10(100))\n",
        "print(math.log(100,10))\n",
        "print(math.sin(math.radians(90)))\n",
        "print(math.cos(math.radians(90)))\n",
        "print(math.tan(math.radians(90)))\n",
        "print(math.degrees(math.pi/2))\n",
        "print(math.factorial(5))"
      ],
      "metadata": {
        "id": "IpPQnpAFmGjd"
      },
      "execution_count": null,
      "outputs": []
    },
    {
      "cell_type": "markdown",
      "source": [
        "##Random Library"
      ],
      "metadata": {
        "id": "P2FYfoHxm3ik"
      }
    },
    {
      "cell_type": "code",
      "source": [
        "import random\n",
        "a= random.random()\n",
        "if (a<0.5):\n",
        "    print(\"Heads\")\n",
        "else:\n",
        "    print(\"Tails\")\n",
        "print(random.randrange(1,7))"
      ],
      "metadata": {
        "colab": {
          "base_uri": "https://localhost:8080/"
        },
        "id": "7NnnBF8Fm81u",
        "outputId": "ea1bc1e1-8a4f-4a7b-dc32-ebab53033d8f"
      },
      "execution_count": 19,
      "outputs": [
        {
          "output_type": "stream",
          "name": "stdout",
          "text": [
            "Heads\n",
            "6\n"
          ]
        }
      ]
    },
    {
      "cell_type": "markdown",
      "source": [
        "## Calander Library"
      ],
      "metadata": {
        "id": "DPbQqwZVo19z"
      }
    },
    {
      "cell_type": "code",
      "source": [
        "'''import calendar\n",
        "#print(calendar.month(2023,9))\n",
        "print(calendar.calendar(2025))'''\n",
        "'''from calendar import *\n",
        "print(month(2023,9))\n",
        "print(calendar(2069))'''\n",
        "'''from calendar import month,calendar\n",
        "print(month(2023,9))\n",
        "print(calendar(6969))'''\n",
        "from calendar import calendar as cal\n",
        "print(cal(69))"
      ],
      "metadata": {
        "colab": {
          "base_uri": "https://localhost:8080/"
        },
        "id": "wx5SA0oBo8hk",
        "outputId": "21658fbe-18f3-4bc1-86bf-ce258afc2943"
      },
      "execution_count": 27,
      "outputs": [
        {
          "output_type": "stream",
          "name": "stdout",
          "text": [
            "                                   69\n",
            "\n",
            "      January                   February                   March\n",
            "Mo Tu We Th Fr Sa Su      Mo Tu We Th Fr Sa Su      Mo Tu We Th Fr Sa Su\n",
            "    1  2  3  4  5  6                   1  2  3                   1  2  3\n",
            " 7  8  9 10 11 12 13       4  5  6  7  8  9 10       4  5  6  7  8  9 10\n",
            "14 15 16 17 18 19 20      11 12 13 14 15 16 17      11 12 13 14 15 16 17\n",
            "21 22 23 24 25 26 27      18 19 20 21 22 23 24      18 19 20 21 22 23 24\n",
            "28 29 30 31               25 26 27 28               25 26 27 28 29 30 31\n",
            "\n",
            "       April                      May                       June\n",
            "Mo Tu We Th Fr Sa Su      Mo Tu We Th Fr Sa Su      Mo Tu We Th Fr Sa Su\n",
            " 1  2  3  4  5  6  7             1  2  3  4  5                      1  2\n",
            " 8  9 10 11 12 13 14       6  7  8  9 10 11 12       3  4  5  6  7  8  9\n",
            "15 16 17 18 19 20 21      13 14 15 16 17 18 19      10 11 12 13 14 15 16\n",
            "22 23 24 25 26 27 28      20 21 22 23 24 25 26      17 18 19 20 21 22 23\n",
            "29 30                     27 28 29 30 31            24 25 26 27 28 29 30\n",
            "\n",
            "        July                     August                  September\n",
            "Mo Tu We Th Fr Sa Su      Mo Tu We Th Fr Sa Su      Mo Tu We Th Fr Sa Su\n",
            " 1  2  3  4  5  6  7                1  2  3  4                         1\n",
            " 8  9 10 11 12 13 14       5  6  7  8  9 10 11       2  3  4  5  6  7  8\n",
            "15 16 17 18 19 20 21      12 13 14 15 16 17 18       9 10 11 12 13 14 15\n",
            "22 23 24 25 26 27 28      19 20 21 22 23 24 25      16 17 18 19 20 21 22\n",
            "29 30 31                  26 27 28 29 30 31         23 24 25 26 27 28 29\n",
            "                                                    30\n",
            "\n",
            "      October                   November                  December\n",
            "Mo Tu We Th Fr Sa Su      Mo Tu We Th Fr Sa Su      Mo Tu We Th Fr Sa Su\n",
            "    1  2  3  4  5  6                   1  2  3                         1\n",
            " 7  8  9 10 11 12 13       4  5  6  7  8  9 10       2  3  4  5  6  7  8\n",
            "14 15 16 17 18 19 20      11 12 13 14 15 16 17       9 10 11 12 13 14 15\n",
            "21 22 23 24 25 26 27      18 19 20 21 22 23 24      16 17 18 19 20 21 22\n",
            "28 29 30 31               25 26 27 28 29 30         23 24 25 26 27 28 29\n",
            "                                                    30 31\n",
            "\n"
          ]
        }
      ]
    },
    {
      "cell_type": "code",
      "source": [
        "x,y,z = 1,2,3\n",
        "x=y=z\n",
        "print(x,y,z)"
      ],
      "metadata": {
        "colab": {
          "base_uri": "https://localhost:8080/"
        },
        "id": "4s6m05QPuvop",
        "outputId": "8f797e80-fc91-4ae7-f57f-226dec4feb1d"
      },
      "execution_count": 28,
      "outputs": [
        {
          "output_type": "stream",
          "name": "stdout",
          "text": [
            "3 3 3\n"
          ]
        }
      ]
    }
  ]
}